{
 "cells": [
  {
   "cell_type": "code",
   "execution_count": 1,
   "metadata": {},
   "outputs": [],
   "source": [
    "from bs4 import BeautifulSoup as soup"
   ]
  },
  {
   "cell_type": "code",
   "execution_count": 2,
   "metadata": {},
   "outputs": [],
   "source": [
    "from urllib.request import urlopen as uReq"
   ]
  },
  {
   "cell_type": "code",
   "execution_count": 3,
   "metadata": {},
   "outputs": [],
   "source": [
    "my_url = 'https://www.flipkart.com/search?q=iphone&otracker=search&otracker1=search&marketplace=FLIPKART&as-show=on&as=off'"
   ]
  },
  {
   "cell_type": "code",
   "execution_count": 4,
   "metadata": {},
   "outputs": [],
   "source": [
    "uClient = uReq(my_url)   #requests the url and downloads it"
   ]
  },
  {
   "cell_type": "code",
   "execution_count": 5,
   "metadata": {},
   "outputs": [],
   "source": [
    "page_html = uClient.read()   #reads the url"
   ]
  },
  {
   "cell_type": "code",
   "execution_count": 6,
   "metadata": {},
   "outputs": [],
   "source": [
    "uClient.close()  #close the connection"
   ]
  },
  {
   "cell_type": "code",
   "execution_count": 7,
   "metadata": {},
   "outputs": [],
   "source": [
    "page_soup = soup(page_html,'html.parser')"
   ]
  },
  {
   "cell_type": "code",
   "execution_count": 8,
   "metadata": {},
   "outputs": [],
   "source": [
    "containers = page_soup.findAll('div',{'class':'_3liAhj'})  #find all iinn given class  "
   ]
  },
  {
   "cell_type": "code",
   "execution_count": 9,
   "metadata": {},
   "outputs": [
    {
     "data": {
      "text/plain": [
       "40"
      ]
     },
     "execution_count": 9,
     "metadata": {},
     "output_type": "execute_result"
    }
   ],
   "source": [
    "len(containers)    #40 products on a page(verified)"
   ]
  },
  {
   "cell_type": "code",
   "execution_count": 10,
   "metadata": {},
   "outputs": [
    {
     "name": "stdout",
     "output_type": "stream",
     "text": [
      "<div class=\"_3liAhj\">\n",
      " <a class=\"Zhf2z-\" href=\"/apple-iphone-11-white-128-gb/p/itm846a8ba21ab11?pid=MOBFKCTS4MZVJ6FJ&amp;lid=LSTMOBFKCTS4MZVJ6FJPY4SUX&amp;marketplace=FLIPKART&amp;srno=s_1_1&amp;otracker=search&amp;otracker1=search&amp;fm=organic&amp;iid=bafc108b-cff1-4fbb-bf9b-33edb142c673.MOBFKCTS4MZVJ6FJ.SEARCH&amp;ssid=kcc2mnx0cg0000001587201677144&amp;qH=0b3f45b266a97d70\" rel=\"noopener noreferrer\" target=\"_blank\">\n",
      "  <div>\n",
      "   <div>\n",
      "    <div class=\"_3BTv9X\" style=\"height:280px;width:200px\">\n",
      "     <img alt=\"Apple iPhone 11 (White, 128 GB)\" class=\"_1Nyybr\" src=\"//img1a.flixcart.com/www/linchpin/fk-cp-zion/img/placeholder_9951d0.svg\"/>\n",
      "    </div>\n",
      "   </div>\n",
      "  </div>\n",
      "  <div class=\"_3aV9Tq\">\n",
      "   <span class=\"rIHMVr\">\n",
      "    Coming Soon\n",
      "   </span>\n",
      "  </div>\n",
      "  <div class=\"_3gDSOa _3iGnbq\">\n",
      "   <div class=\"DsQ2eg\">\n",
      "    <svg class=\"_2oLiqr\" height=\"16\" viewbox=\"0 0 20 16\" width=\"16\" xmlns=\"http://www.w3.org/2000/svg\">\n",
      "     <path class=\"_35Y7Yo\" d=\"M8.695 16.682C4.06 12.382 1 9.536 1 6.065 1 3.219 3.178 1 5.95 1c1.566 0 3.069.746 4.05 1.915C10.981 1.745 12.484 1 14.05 1 16.822 1 19 3.22 19 6.065c0 3.471-3.06 6.316-7.695 10.617L10 17.897l-1.305-1.215z\" fill=\"#2874F0\" fill-rule=\"evenodd\" opacity=\".9\" stroke=\"#FFF\">\n",
      "     </path>\n",
      "    </svg>\n",
      "   </div>\n",
      "  </div>\n",
      " </a>\n",
      " <a class=\"_2cLu-l\" href=\"/apple-iphone-11-white-128-gb/p/itm846a8ba21ab11?pid=MOBFKCTS4MZVJ6FJ&amp;lid=LSTMOBFKCTS4MZVJ6FJPY4SUX&amp;marketplace=FLIPKART&amp;srno=s_1_1&amp;otracker=search&amp;otracker1=search&amp;fm=organic&amp;iid=bafc108b-cff1-4fbb-bf9b-33edb142c673.MOBFKCTS4MZVJ6FJ.SEARCH&amp;ssid=kcc2mnx0cg0000001587201677144&amp;qH=0b3f45b266a97d70\" rel=\"noopener noreferrer\" target=\"_blank\" title=\"Apple iPhone 11 (White, 128 GB)\">\n",
      "  Apple iPhone 11 (White, 128 GB)\n",
      " </a>\n",
      " <div class=\"niH0FQ _36Fcw_\">\n",
      "  <span class=\"_2_KrJI\" id=\"productRating_LSTMOBFKCTS4MZVJ6FJPY4SUX_MOBFKCTS4MZVJ6FJ_\">\n",
      "   <div class=\"hGSR34\">\n",
      "    4.7\n",
      "    <img class=\"_2lQ_WZ\" src=\"data:image/svg+xml;base64,PHN2ZyB4bWxucz0iaHR0cDovL3d3dy53My5vcmcvMjAwMC9zdmciIHdpZHRoPSIxMyIgaGVpZ2h0PSIxMiI+PHBhdGggZmlsbD0iI0ZGRiIgZD0iTTYuNSA5LjQzOWwtMy42NzQgMi4yMy45NC00LjI2LTMuMjEtMi44ODMgNC4yNTQtLjQwNEw2LjUuMTEybDEuNjkgNC4wMSA0LjI1NC40MDQtMy4yMSAyLjg4Mi45NCA0LjI2eiIvPjwvc3ZnPg==\"/>\n",
      "   </div>\n",
      "  </span>\n",
      "  <span class=\"_38sUEc\">\n",
      "   (10,800)\n",
      "  </span>\n",
      " </div>\n",
      " <div class=\"_3LWrw9\">\n",
      "  <img height=\"21\" src=\"//img1a.flixcart.com/www/linchpin/fk-cp-zion/img/fa_8b4b59.png\"/>\n",
      " </div>\n",
      " <a class=\"_1Vfi6u\" href=\"/apple-iphone-11-white-128-gb/p/itm846a8ba21ab11?pid=MOBFKCTS4MZVJ6FJ&amp;lid=LSTMOBFKCTS4MZVJ6FJPY4SUX&amp;marketplace=FLIPKART&amp;srno=s_1_1&amp;otracker=search&amp;otracker1=search&amp;fm=organic&amp;iid=bafc108b-cff1-4fbb-bf9b-33edb142c673.MOBFKCTS4MZVJ6FJ.SEARCH&amp;ssid=kcc2mnx0cg0000001587201677144&amp;qH=0b3f45b266a97d70\" rel=\"noopener noreferrer\" target=\"_blank\">\n",
      "  <div class=\"_1uv9Cb\">\n",
      "   <div class=\"_1vC4OE\">\n",
      "    ₹73,600\n",
      "   </div>\n",
      "  </div>\n",
      " </a>\n",
      " <div class=\"_3ighFh\">\n",
      "  <div class=\"_34CFgI\">\n",
      "   <div class=\"_1O_CiZ\">\n",
      "    <span class=\"_1iHA1p\">\n",
      "     <div class=\"_2kFyHg\">\n",
      "      <label>\n",
      "       <input class=\"_3uUUD5\" readonly=\"\" type=\"checkbox\"/>\n",
      "       <div class=\"_1p7h2j\">\n",
      "       </div>\n",
      "      </label>\n",
      "     </div>\n",
      "    </span>\n",
      "    <label class=\"_10TB-Q\">\n",
      "     <span>\n",
      "      Add to Compare\n",
      "     </span>\n",
      "    </label>\n",
      "   </div>\n",
      "  </div>\n",
      " </div>\n",
      "</div>\n"
     ]
    }
   ],
   "source": [
    "print(soup.prettify(containers[0]))"
   ]
  },
  {
   "cell_type": "code",
   "execution_count": 11,
   "metadata": {},
   "outputs": [],
   "source": [
    "container = containers[0]"
   ]
  },
  {
   "cell_type": "code",
   "execution_count": 12,
   "metadata": {},
   "outputs": [
    {
     "name": "stdout",
     "output_type": "stream",
     "text": [
      "Apple iPhone 11 (White, 128 GB)\n"
     ]
    }
   ],
   "source": [
    "print(container.div.img['alt'])"
   ]
  },
  {
   "cell_type": "code",
   "execution_count": 13,
   "metadata": {},
   "outputs": [],
   "source": [
    "price = container.findAll('div',{'class':'_1uv9Cb'})"
   ]
  },
  {
   "cell_type": "code",
   "execution_count": 14,
   "metadata": {},
   "outputs": [
    {
     "name": "stdout",
     "output_type": "stream",
     "text": [
      "₹73,600\n"
     ]
    }
   ],
   "source": [
    "print(price[0].text)"
   ]
  },
  {
   "cell_type": "code",
   "execution_count": 15,
   "metadata": {},
   "outputs": [],
   "source": [
    "ratings = container.findAll('div',{'class':'niH0FQ _36Fcw_'})"
   ]
  },
  {
   "cell_type": "code",
   "execution_count": 16,
   "metadata": {},
   "outputs": [
    {
     "name": "stdout",
     "output_type": "stream",
     "text": [
      "4.7(10,800)\n"
     ]
    }
   ],
   "source": [
    "print(ratings[0].text)"
   ]
  },
  {
   "cell_type": "code",
   "execution_count": 17,
   "metadata": {},
   "outputs": [
    {
     "data": {
      "text/plain": [
       "26"
      ]
     },
     "execution_count": 17,
     "metadata": {},
     "output_type": "execute_result"
    }
   ],
   "source": [
    "filename = 'products.csv'\n",
    "f = open(filename,'w')\n",
    "headers='product_name,price,rating\\n'\n",
    "f.write(headers)"
   ]
  },
  {
   "cell_type": "code",
   "execution_count": 18,
   "metadata": {},
   "outputs": [
    {
     "name": "stdout",
     "output_type": "stream",
     "text": [
      "product_name:Apple iPhone 11 (White| 128 GB)\n",
      "price:₹73,600\n",
      "rating:4.7(10,800)\n",
      "\n",
      "₹73600\n",
      "['', '73600']\n",
      "73600\n",
      "4.7(10,800)\n",
      "['4.7', '10,800)']\n",
      "4.7\n",
      "Apple iPhone 11 (White| 128 GB),73600,4.7\n",
      "\n",
      "product_name:Apple iPhone 7 Plus (Black| 32 GB)\n",
      "price:₹36,999₹37,9002% off\n",
      "rating:4.5(24,149)\n",
      "\n",
      "₹36999₹379002% off\n",
      "['', '36999', '379002% off']\n",
      "36999\n",
      "4.5(24,149)\n",
      "['4.5', '24,149)']\n",
      "4.5\n",
      "Apple iPhone 7 Plus (Black| 32 GB),36999,4.5\n",
      "\n",
      "product_name:Apple iPhone 7 (Black| 32 GB)\n",
      "price:₹29,499₹29,9001% off\n",
      "rating:4.5(86,168)\n",
      "\n",
      "₹29499₹299001% off\n",
      "['', '29499', '299001% off']\n",
      "29499\n",
      "4.5(86,168)\n",
      "['4.5', '86,168)']\n",
      "4.5\n",
      "Apple iPhone 7 (Black| 32 GB),29499,4.5\n",
      "\n",
      "product_name:Apple iPhone 11 (Black| 64 GB)\n",
      "price:₹68,300\n",
      "rating:4.7(10,800)\n",
      "\n",
      "₹68300\n",
      "['', '68300']\n",
      "68300\n",
      "4.7(10,800)\n",
      "['4.7', '10,800)']\n",
      "4.7\n",
      "Apple iPhone 11 (Black| 64 GB),68300,4.7\n",
      "\n",
      "product_name:Apple iPhone 11 (White| 64 GB)\n",
      "price:₹68,300\n",
      "rating:4.7(10,800)\n",
      "\n",
      "₹68300\n",
      "['', '68300']\n",
      "68300\n",
      "4.7(10,800)\n",
      "['4.7', '10,800)']\n",
      "4.7\n",
      "Apple iPhone 11 (White| 64 GB),68300,4.7\n",
      "\n",
      "product_name:Apple iPhone 6s (Space Grey| 32 GB)\n",
      "price:₹24,990\n",
      "rating:4.5(91,367)\n",
      "\n",
      "₹24990\n",
      "['', '24990']\n",
      "24990\n",
      "4.5(91,367)\n",
      "['4.5', '91,367)']\n",
      "4.5\n",
      "Apple iPhone 6s (Space Grey| 32 GB),24990,4.5\n",
      "\n",
      "product_name:Apple iPhone 7 Plus (Rose Gold| 32 GB)\n",
      "price:₹36,999₹37,9002% off\n",
      "rating:4.5(24,149)\n",
      "\n",
      "₹36999₹379002% off\n",
      "['', '36999', '379002% off']\n",
      "36999\n",
      "4.5(24,149)\n",
      "['4.5', '24,149)']\n",
      "4.5\n",
      "Apple iPhone 7 Plus (Rose Gold| 32 GB),36999,4.5\n",
      "\n",
      "product_name:Apple iPhone 11 (Purple| 64 GB)\n",
      "price:₹68,300\n",
      "rating:4.7(10,800)\n",
      "\n",
      "₹68300\n",
      "['', '68300']\n",
      "68300\n",
      "4.7(10,800)\n",
      "['4.7', '10,800)']\n",
      "4.7\n",
      "Apple iPhone 11 (Purple| 64 GB),68300,4.7\n",
      "\n",
      "product_name:Apple iPhone 7 Plus (Gold| 32 GB)\n",
      "price:₹36,999₹37,9002% off\n",
      "rating:4.5(24,149)\n",
      "\n",
      "₹36999₹379002% off\n",
      "['', '36999', '379002% off']\n",
      "36999\n",
      "4.5(24,149)\n",
      "['4.5', '24,149)']\n",
      "4.5\n",
      "Apple iPhone 7 Plus (Gold| 32 GB),36999,4.5\n",
      "\n",
      "product_name:Apple iPhone 8 (Silver| 64 GB)\n",
      "price:₹38,999₹39,9002% off\n",
      "rating:4.5(9,970)\n",
      "\n",
      "₹38999₹399002% off\n",
      "['', '38999', '399002% off']\n",
      "38999\n",
      "4.5(9,970)\n",
      "['4.5', '9,970)']\n",
      "4.5\n",
      "Apple iPhone 8 (Silver| 64 GB),38999,4.5\n",
      "\n",
      "product_name:Apple iPhone 11 (Black| 128 GB)\n",
      "price:₹73,600\n",
      "rating:4.7(10,800)\n",
      "\n",
      "₹73600\n",
      "['', '73600']\n",
      "73600\n",
      "4.7(10,800)\n",
      "['4.7', '10,800)']\n",
      "4.7\n",
      "Apple iPhone 11 (Black| 128 GB),73600,4.7\n",
      "\n",
      "product_name:Apple iPhone 8 (Space Grey| 64 GB)\n",
      "price:₹38,999₹39,9002% off\n",
      "rating:4.5(9,970)\n",
      "\n",
      "₹38999₹399002% off\n",
      "['', '38999', '399002% off']\n",
      "38999\n",
      "4.5(9,970)\n",
      "['4.5', '9,970)']\n",
      "4.5\n",
      "Apple iPhone 8 (Space Grey| 64 GB),38999,4.5\n",
      "\n",
      "product_name:Tough Lee Tempered Glass Guard for Apple iPhone 7 Plus\n",
      "price:₹152₹78780% off\n",
      "rating:3.8(85)\n",
      "\n",
      "₹152₹78780% off\n",
      "['', '152', '78780% off']\n",
      "152\n",
      "3.8(85)\n",
      "['3.8', '85)']\n",
      "3.8\n",
      "Tough Lee Tempered Glass Guard for Apple iPhone 7 Plus,152,3.8\n",
      "\n",
      "product_name:Apple iPhone XS (Gold| 64 GB)\n",
      "price:₹62,999₹89,90029% off\n",
      "rating:4.7(8,368)\n",
      "\n",
      "₹62999₹8990029% off\n",
      "['', '62999', '8990029% off']\n",
      "62999\n",
      "4.7(8,368)\n",
      "['4.7', '8,368)']\n",
      "4.7\n",
      "Apple iPhone XS (Gold| 64 GB),62999,4.7\n",
      "\n",
      "product_name:Apple iPhone XS (Space Grey| 64 GB)\n",
      "price:₹62,999₹89,90029% off\n",
      "rating:4.7(8,368)\n",
      "\n",
      "₹62999₹8990029% off\n",
      "['', '62999', '8990029% off']\n",
      "62999\n",
      "4.7(8,368)\n",
      "['4.7', '8,368)']\n",
      "4.7\n",
      "Apple iPhone XS (Space Grey| 64 GB),62999,4.7\n",
      "\n",
      "product_name:Apple iPhone XR (Blue| 64 GB)\n",
      "price:₹52,500\n",
      "rating:4.6(8,780)\n",
      "\n",
      "₹52500\n",
      "['', '52500']\n",
      "52500\n",
      "4.6(8,780)\n",
      "['4.6', '8,780)']\n",
      "4.6\n",
      "Apple iPhone XR (Blue| 64 GB),52500,4.6\n",
      "\n",
      "product_name:Apple iPhone 11 (Green| 64 GB)\n",
      "price:₹68,300\n",
      "rating:4.7(10,800)\n",
      "\n",
      "₹68300\n",
      "['', '68300']\n",
      "68300\n",
      "4.7(10,800)\n",
      "['4.7', '10,800)']\n",
      "4.7\n",
      "Apple iPhone 11 (Green| 64 GB),68300,4.7\n",
      "\n",
      "product_name:Apple iPhone XR (Black| 128 GB)\n",
      "price:₹57,800\n",
      "rating:4.6(8,780)\n",
      "\n",
      "₹57800\n",
      "['', '57800']\n",
      "57800\n",
      "4.6(8,780)\n",
      "['4.6', '8,780)']\n",
      "4.6\n",
      "Apple iPhone XR (Black| 128 GB),57800,4.6\n",
      "\n",
      "product_name:Apple iPhone XS (Silver| 64 GB)\n",
      "price:₹62,999₹89,90029% off\n",
      "rating:4.7(8,368)\n",
      "\n",
      "₹62999₹8990029% off\n",
      "['', '62999', '8990029% off']\n",
      "62999\n",
      "4.7(8,368)\n",
      "['4.7', '8,368)']\n",
      "4.7\n",
      "Apple iPhone XS (Silver| 64 GB),62999,4.7\n",
      "\n",
      "product_name:Apple iPhone 11 (Red| 64 GB)\n",
      "price:₹68,300\n",
      "rating:4.7(10,800)\n",
      "\n",
      "₹68300\n",
      "['', '68300']\n",
      "68300\n",
      "4.7(10,800)\n",
      "['4.7', '10,800)']\n",
      "4.7\n",
      "Apple iPhone 11 (Red| 64 GB),68300,4.7\n",
      "\n",
      "product_name:Apple iPhone 7 (Rose Gold| 32 GB)\n",
      "price:₹29,499₹29,9001% off\n",
      "rating:4.5(86,168)\n",
      "\n",
      "₹29499₹299001% off\n",
      "['', '29499', '299001% off']\n",
      "29499\n",
      "4.5(86,168)\n",
      "['4.5', '86,168)']\n",
      "4.5\n",
      "Apple iPhone 7 (Rose Gold| 32 GB),29499,4.5\n",
      "\n",
      "product_name:Apple iPhone 11 (Yellow| 128 GB)\n",
      "price:₹73,600\n",
      "rating:4.7(10,800)\n",
      "\n",
      "₹73600\n",
      "['', '73600']\n",
      "73600\n",
      "4.7(10,800)\n",
      "['4.7', '10,800)']\n",
      "4.7\n",
      "Apple iPhone 11 (Yellow| 128 GB),73600,4.7\n",
      "\n",
      "product_name:Apple iPhone XR (Coral| 128 GB)\n",
      "price:₹57,800\n",
      "rating:4.6(8,780)\n",
      "\n",
      "₹57800\n",
      "['', '57800']\n",
      "57800\n",
      "4.6(8,780)\n",
      "['4.6', '8,780)']\n",
      "4.6\n",
      "Apple iPhone XR (Coral| 128 GB),57800,4.6\n",
      "\n",
      "product_name:Apple iPhone 11 (Red| 128 GB)\n",
      "price:₹73,600\n",
      "rating:4.7(10,800)\n",
      "\n",
      "₹73600\n",
      "['', '73600']\n",
      "73600\n",
      "4.7(10,800)\n",
      "['4.7', '10,800)']\n",
      "4.7\n",
      "Apple iPhone 11 (Red| 128 GB),73600,4.7\n",
      "\n",
      "product_name:Apple iPhone 7 Plus (Silver| 32 GB)\n",
      "price:₹36,999₹37,9002% off\n",
      "rating:4.5(24,149)\n",
      "\n",
      "₹36999₹379002% off\n",
      "['', '36999', '379002% off']\n",
      "36999\n",
      "4.5(24,149)\n",
      "['4.5', '24,149)']\n",
      "4.5\n",
      "Apple iPhone 7 Plus (Silver| 32 GB),36999,4.5\n",
      "\n"
     ]
    },
    {
     "ename": "IndexError",
     "evalue": "list index out of range",
     "output_type": "error",
     "traceback": [
      "\u001b[1;31m---------------------------------------------------------------------------\u001b[0m",
      "\u001b[1;31mIndexError\u001b[0m                                Traceback (most recent call last)",
      "\u001b[1;32m<ipython-input-18-74cfd8988b28>\u001b[0m in \u001b[0;36m<module>\u001b[1;34m\u001b[0m\n\u001b[0;32m      7\u001b[0m \u001b[1;33m\u001b[0m\u001b[0m\n\u001b[0;32m      8\u001b[0m     \u001b[0mrating_container\u001b[0m \u001b[1;33m=\u001b[0m \u001b[0mcontainer\u001b[0m\u001b[1;33m.\u001b[0m\u001b[0mfindAll\u001b[0m\u001b[1;33m(\u001b[0m\u001b[1;34m'div'\u001b[0m\u001b[1;33m,\u001b[0m\u001b[1;33m{\u001b[0m\u001b[1;34m'class'\u001b[0m\u001b[1;33m:\u001b[0m\u001b[1;34m'niH0FQ _36Fcw_'\u001b[0m\u001b[1;33m}\u001b[0m\u001b[1;33m)\u001b[0m\u001b[1;33m\u001b[0m\u001b[1;33m\u001b[0m\u001b[0m\n\u001b[1;32m----> 9\u001b[1;33m     \u001b[0mrating\u001b[0m \u001b[1;33m=\u001b[0m \u001b[0mrating_container\u001b[0m\u001b[1;33m[\u001b[0m\u001b[1;36m0\u001b[0m\u001b[1;33m]\u001b[0m\u001b[1;33m.\u001b[0m\u001b[0mtext\u001b[0m\u001b[1;33m\u001b[0m\u001b[1;33m\u001b[0m\u001b[0m\n\u001b[0m\u001b[0;32m     10\u001b[0m \u001b[1;33m\u001b[0m\u001b[0m\n\u001b[0;32m     11\u001b[0m     \u001b[0mprint\u001b[0m\u001b[1;33m(\u001b[0m\u001b[1;34m'product_name:'\u001b[0m\u001b[1;33m+\u001b[0m\u001b[0mproduct_name\u001b[0m\u001b[1;33m)\u001b[0m\u001b[1;33m\u001b[0m\u001b[1;33m\u001b[0m\u001b[0m\n",
      "\u001b[1;31mIndexError\u001b[0m: list index out of range"
     ]
    }
   ],
   "source": [
    "for container in containers:\n",
    "    product_name = container.div.img['alt']\n",
    "    product_name = product_name.replace(',','|')\n",
    "    \n",
    "    price_container = container.findAll('div',{'class':'_1uv9Cb'})\n",
    "    price = price_container[0].text.strip()\n",
    "    \n",
    "    rating_container = container.findAll('div',{'class':'niH0FQ _36Fcw_'})\n",
    "    rating = rating_container[0].text\n",
    "    \n",
    "    print('product_name:'+product_name)\n",
    "    print('price:'+price)\n",
    "    print('rating:'+rating+'\\n')\n",
    "    \n",
    "    trim_price = ''.join(price.split(','))\n",
    "    print(trim_price)\n",
    "    \n",
    "    split_price = trim_price.split('₹')\n",
    "    print(split_price)\n",
    "    type(split_price)\n",
    "    final_price = split_price[1]\n",
    "    print(final_price)\n",
    "\n",
    "    split_rating = rating.strip()\n",
    "    print(split_rating)\n",
    "    type(split_rating)\n",
    "    \n",
    "    split_rating = rating.split('(')\n",
    "    print(split_rating)\n",
    "    type(split_rating)\n",
    "    \n",
    "    final_rating = split_rating[0]\n",
    "    print(final_rating)\n",
    "    \n",
    "    print(product_name + ',' + final_price + ',' + final_rating + '\\n')\n",
    "    \n",
    "    f.write(product_name + ',' + final_price + ',' + final_rating + '\\n')\n",
    "f.close()"
   ]
  },
  {
   "cell_type": "code",
   "execution_count": 19,
   "metadata": {},
   "outputs": [
    {
     "name": "stdout",
     "output_type": "stream",
     "text": [
      "<bound method Tag.get_text of <title>Iphone - Buy Products Online at Best Price in India - All Categories | Flipkart.com</title>>\n"
     ]
    }
   ],
   "source": [
    "#o read the title of the webpage you are using BeautifulSoup\n",
    "print(page_soup.title.get_text)         #this is not correct"
   ]
  },
  {
   "cell_type": "code",
   "execution_count": 20,
   "metadata": {},
   "outputs": [
    {
     "name": "stdout",
     "output_type": "stream",
     "text": [
      "Iphone - Buy Products Online at Best Price in India - All Categories | Flipkart.com\n"
     ]
    }
   ],
   "source": [
    "print(page_soup.title.string)            #this is correct"
   ]
  },
  {
   "cell_type": "code",
   "execution_count": 21,
   "metadata": {},
   "outputs": [
    {
     "name": "stdout",
     "output_type": "stream",
     "text": [
      "title\n"
     ]
    }
   ],
   "source": [
    "print(page_soup.title.name)            #this is not correct"
   ]
  },
  {
   "cell_type": "code",
   "execution_count": 22,
   "metadata": {},
   "outputs": [
    {
     "name": "stdout",
     "output_type": "stream",
     "text": [
      "Iphone - Buy Products Online at Best Price in India - All Categories | Flipkart.com\n"
     ]
    }
   ],
   "source": [
    "print(page_soup.title.get_text())        #this is correct"
   ]
  },
  {
   "cell_type": "code",
   "execution_count": null,
   "metadata": {},
   "outputs": [],
   "source": []
  },
  {
   "cell_type": "code",
   "execution_count": null,
   "metadata": {},
   "outputs": [],
   "source": []
  }
 ],
 "metadata": {
  "kernelspec": {
   "display_name": "Python 3",
   "language": "python",
   "name": "python3"
  },
  "language_info": {
   "codemirror_mode": {
    "name": "ipython",
    "version": 3
   },
   "file_extension": ".py",
   "mimetype": "text/x-python",
   "name": "python",
   "nbconvert_exporter": "python",
   "pygments_lexer": "ipython3",
   "version": "3.7.6"
  }
 },
 "nbformat": 4,
 "nbformat_minor": 2
}
